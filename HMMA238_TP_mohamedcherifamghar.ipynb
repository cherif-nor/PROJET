{
 "cells": [
  {
   "cell_type": "markdown",
   "metadata": {},
   "source": [
    "<p style=\"text-align:left;\">\n",
    "    Université de Montpellier\n",
    "        <span style=\"float:right;\"> <strong style=\"color:jaune;\">\n",
    "        Benjamin Charlier, Joseph Salmon \n",
    "    </span>\n",
    "</p>\n",
    "<center style=\"font-size:250%;\"> <strong style=\"color:blue;\"> TP N°1 : JEU DE LA VIE </strong> </center><br>\n",
    "\n",
    "\n",
    "<center>   MASTER1-MIND </center><br>\n",
    "<center>  2019-2020 </center><br>\n",
    "\n",
    "\n",
    "<center>  HMMA238 Développement Logiciel </center><br>\n",
    "\n",
    "\n",
    "<center style=\"font-size:200%;\">  AMGHAR CHERIF  </center><br>\n",
    "*****   "
   ]
  },
  {
   "cell_type": "markdown",
   "metadata": {
    "collapsed": true
   },
   "source": [
    "<center style=\"font-size:190%;\"> <strong style=\"color:green;\"> Présentation du sujet: </strong> </center><br>\n",
    "\n",
    "\n",
    "<center style=\"font-size:140%;\"> Le jeu de la vie est un automate cellulaire mis au point par le mathématicien britannique\n",
    "John Horton Conway en 1970. Il constitue l'exemple le plus connu d'un automate cellulaire. Le \"jeu\" est en fait un jeu à zéro \n",
    "joueur, ce qui signifie que son évolution est déterminée par son état initial et ne nécessite aucune intervention de la part \n",
    "d'un humain. On interagit avec le jeu de la vie en créant une configuration initiale ; il ne reste plus alors qu'à observer son \n",
    "évolution. L'univers du jeu est initialement une grille orthogonale bidimensionnelle infinie de cellules carrées. Dans la suite \n",
    "du projet on supposera cependant que la grille est carrée et de taille finie pour éviter toute dificulté. On supposera aussi que \n",
    "le pourtour de la grille est toujours inactif/mort. Les cellules du jeu ne peuvent prendre qu'un état parmi l'un des deux états \n",
    "possibles : vivant (1) ou mort (0). Chaque cellule interagit avec ses huit cellules voisines (ce sont les cellules directement \n",
    "adjacentes horizontalement, verticalement ou en diagonale), comme indiqué sur la Figure 1.\n",
    "\n",
    "<img src=\"https://raw.githubusercontent.com/Elpysum/Projet-Dev-Log/master/Images/F1.jpg\" width=\"500\">\n",
    "\n",
    "À chaque étape, les transitions suivantes se produisent :\n",
    "\n",
    "a) Toute cellule morte ayant exactement 3 voisins vivants devient une cellule vivante (naissance),cf. Figure 2a.\n",
    "\n",
    "b) Toute cellule vivante avec 2 ou 3 voisins vivants reste vivante à la génération suivante (équilibre),cf. Figure 2b.\n",
    "\n",
    "c) Toute cellule vivante ayant 4 voisins vivants meurt à la génération suivante (mort par étouffement), cf. Figure 2c.\n",
    "\n",
    "d) Toute cellule vivante ayant 0 ou 1 voisin vivant décède à la génération suivante (mort par isolement), cf. Figure 2d.\n",
    "\n",
    "<img src=\"https://raw.githubusercontent.com/Elpysum/Projet-Dev-Log/master/Images/F2.jpg\" width=\"700\">\n",
    "\n",
    "</center><br>"
   ]
  },
  {
   "cell_type": "markdown",
   "metadata": {},
   "source": [
    "<p style='text-align: justify;'> Le modèle initial constitue la \"graine\" du système. La première génération est crée en appliquant les règles ci-dessus simultanément à chaque cellule de la graine - les naissances et les décès se produisent simultanément. Ainsi chaque génération est une fonction de la précèdente. Les règles continuent d'être appliquées de manière répétée pour créer d'autres générations. </p>"
   ]
  },
  {
   "cell_type": "code",
   "execution_count": null,
   "metadata": {
    "collapsed": true
   },
   "outputs": [],
   "source": [
    "import numpy as np\n",
    "from matplotlib import pyplot as plt\n",
    "from matplotlib.animation import FuncAnimation\n",
    "%matplotlib notebook"
   ]
  },
  {
   "cell_type": "code",
   "execution_count": null,
   "metadata": {},
   "outputs": [],
   "source": [
    "filename = \"HMMA238_TP_mohamedcherifamghar.ipynb\"\n",
    "taille_str = len(filename)\n",
    "ma_graine = taille_str % 6\n",
    "print (\"Ma graine est le reste de la division euclidienne est égale à {}.\".format(ma_graine))"
   ]
  },
  {
   "cell_type": "markdown",
   "metadata": {},
   "source": [
    "### Implémentation sans numpy:\n",
    "\n",
    "\n",
    "Toutes les fonctions définies, par la suite, sont placées dans un fichier **utils.py** que l'on appellera depuis le notebook.\n",
    "De même, pour avoir la description de chaque fonction, nous allons utiliser **help**.\n",
    "\n",
    "On va fournir ci-dessous le code Python pour coder ce jeu. Dans la suite on va coder les cellules vivantes par des 1 et les cellules mortes par des 0.   \n",
    "\n",
    "Tout d'abord on définit la fonction **calcul_nb_voisins**, comme ceci :"
   ]
  },
  {
   "cell_type": "code",
   "execution_count": null,
   "metadata": {
    "collapsed": true
   },
   "outputs": [],
   "source": [
    "def calcul_nb_voisins(Z):\n",
    "    \"\"\"Cette fonction permet de calculer le nombre de voisins.\n",
    "        \n",
    "    Les paramétres\n",
    "    ---------------\n",
    "        Z : une liste de liste contient que des 0 et 1.\n",
    "\n",
    "    Retour\n",
    "    --------\n",
    "        N : une liste de liste de même taille que Z ainsi chaque éléments de N contient la somme des 8 voisinages.\n",
    "    \n",
    "    Exemple\n",
    "    ---------\n",
    "        >>> Z = [[0, 0, 0, 0, 0, 0], [0, 0, 0, 1, 0, 0], [0, 1, 0, 1, 0, 0], [0, 0, 1, 1, 0, 0], [0, 0, 0, 0, 0, 0], [0, 0, 0, 0, 0, 0]]\n",
    "        >>> calcul_nb_voisins(Z)\n",
    "        [[0, 0, 0, 0, 0, 0], [0, 1, 3, 1, 2, 0], [0, 1, 5, 3, 3, 0], [0, 2, 3, 2, 2, 0], [0, 1, 2, 2, 1, 0], [0, 0, 0, 0, 0, 0]]\n",
    "    \"\"\"\n",
    "    forme = len(Z), len(Z[0])\n",
    "    N = [[0, ] * (forme[0]) for i in range(forme[1])]\n",
    "    for x in range(1, forme[0] - 1):\n",
    "        for y in range(1, forme[1] - 1):\n",
    "            N[x][y] = Z[x-1][y-1]+Z[x][y-1]+Z[x+1][y-1] \\\n",
    "                + Z[x-1][y] + Z[x+1][y] \\\n",
    "                + Z[x-1][y+1]+Z[x][y+1]+Z[x+1][y+1]\n",
    "    return N"
   ]
  },
  {
   "cell_type": "code",
   "execution_count": null,
   "metadata": {
    "collapsed": true
   },
   "outputs": [],
   "source": [
    "from utils import calcul_nb_voisins\n",
    "calcul_nb_voisins?"
   ]
  },
  {
   "cell_type": "markdown",
   "metadata": {},
   "source": [
    "#### Question 4\n",
    "On applique la fonction précédente à la cellule Z:"
   ]
  },
  {
   "cell_type": "code",
   "execution_count": null,
   "metadata": {},
   "outputs": [],
   "source": [
    "Z = [[0, 0, 0, 0, 0, 0],\n",
    "     [0, 0, 0, 1, 0, 0],\n",
    "     [0, 1, 0, 1, 0, 0],\n",
    "     [0, 0, 1, 1, 0, 0],\n",
    "     [0, 0, 0, 0, 0, 0],\n",
    "     [0, 0, 0, 0, 0, 0]]\n",
    "\n",
    "print (calcul_nb_voisins(Z))"
   ]
  },
  {
   "cell_type": "code",
   "execution_count": null,
   "metadata": {
    "collapsed": true
   },
   "outputs": [],
   "source": [
    "def iteration_jeu(Z):\n",
    "    \"\"\"Cette fonction permet de réaliser une itération de jeu.\n",
    "\n",
    "    Si une cellule a trois voisines vivantes, elle devient vivante peu importe son état initial(morte, vivante).\n",
    "    Si une cellule a deux voisines vivantes, elle reste dans son état actuel.\n",
    "    Si une cellule a strictement moins de deux ou strictement plus de trois voisines vivantes, elle devient morte.\n",
    "    Tous les autres cas restent dans son état.\n",
    "    \n",
    "    Les paramétres\n",
    "    ---------------\n",
    "        Z : c'est une liste de listes.\n",
    "\n",
    "    Retour\n",
    "    ------\n",
    "        Z : c'est une liste de listes, qui donne l'état de la cellule aprés une itération. \n",
    "\n",
    "    Example\n",
    "    -------\n",
    "        >>> cellule_init = [[0,0,0,0],[0,0,1,0],[0,1,1,0],[0,0,0,0]]\n",
    "        >>> iteration_jeu(cellule_init)\n",
    "        [[0, 0, 0, 0], [0, 1, 1, 0], [0, 1, 1, 0], [0, 0, 0, 0]]\n",
    "    \"\"\"\n",
    "    forme = len(Z), len(Z[0])\n",
    "    N = calcul_nb_voisins(Z)\n",
    "    for x in range(1, forme[0]-1):\n",
    "        for y in range(1, forme[1]-1):\n",
    "            if Z[x][y] == 1 and (N[x][y] < 2 or N[x][y] > 3):\n",
    "                Z[x][y] = 0\n",
    "            elif Z[x][y] == 0 and N[x][y] == 3:\n",
    "                Z[x][y] = 1\n",
    "    return Z"
   ]
  },
  {
   "cell_type": "code",
   "execution_count": null,
   "metadata": {},
   "outputs": [],
   "source": [
    "help(iteration_jeu)"
   ]
  },
  {
   "cell_type": "markdown",
   "metadata": {},
   "source": [
    "#### Question 5:"
   ]
  },
  {
   "cell_type": "code",
   "execution_count": null,
   "metadata": {
    "collapsed": true
   },
   "outputs": [],
   "source": [
    "def iterations_10(Z):\n",
    "    \"\"\"Cette fonction affiche une simulation de 10 premièrs itérations pour la cellule Z, affiché sous forme de 2 lignes et 5 colonnes.\n",
    "    \n",
    "    Les paramétres\n",
    "    --------------\n",
    "        Z : une liste de listes (cellule initial)\n",
    "    \n",
    "    \"\"\"\n",
    "    plt.subplots(figsize=(15,10))\n",
    "    for i in range(10):\n",
    "        ax = plt.subplot(2,5,i+1)\n",
    "        plt.imshow(Z, extent=[0,len(Z[0]),0,len(Z)])\n",
    "        plt.grid(True)\n",
    "        ax.set_xticks(range(0,len(Z[0]),1))\n",
    "        plt.title(\"Jeu de la vie pour l'itr\" + str(i)) \n",
    "        \n",
    "        Z = iteration_jeu(Z) \n",
    "\n",
    "    plt.show()"
   ]
  },
  {
   "cell_type": "code",
   "execution_count": null,
   "metadata": {
    "scrolled": false
   },
   "outputs": [],
   "source": [
    "import matplotlib.pyplot as plt\n",
    "help(iterations_10)"
   ]
  },
  {
   "cell_type": "code",
   "execution_count": null,
   "metadata": {
    "scrolled": true
   },
   "outputs": [],
   "source": [
    "Z = ([[0,0,0,0,0,0],\n",
    "    [0,0,0,1,0,0],\n",
    "    [0,1,0,1,0,0],\n",
    "    [0,0,1,1,0,0],\n",
    "    [0,0,0,0,0,0],\n",
    "    [0,0,0,0,0,0]])\n",
    "iterations_10(Z)"
   ]
  },
  {
   "cell_type": "markdown",
   "metadata": {},
   "source": [
    "#### Question 6:"
   ]
  },
  {
   "cell_type": "markdown",
   "metadata": {},
   "source": [
    "On remarque qu'on revient à la forme initiale dans la quatrième itération mais avec un décalage vers la droite en bas et entre ces itérations les cellules partent du côté gauche vers la droite, aprés l'itération 7 on observe une stabilité des cellules respectant la régle des trois voisines vivantes et on néglige les bornes(mort). Donc on obtient  l'équilibre."
   ]
  },
  {
   "cell_type": "markdown",
   "metadata": {},
   "source": [
    "### Implémentation avec *numpy*\n"
   ]
  },
  {
   "cell_type": "markdown",
   "metadata": {},
   "source": [
    "##### Question 7:"
   ]
  },
  {
   "cell_type": "code",
   "execution_count": null,
   "metadata": {},
   "outputs": [],
   "source": [
    "vect = np.array([0, 1, 0, 0, 1, 1])\n",
    "nb_vect = np.zeros(vect.shape)\n",
    "nb_vect[1:-1]  += (vect[:-2] + vect[2:])\n",
    "nb_vect"
   ]
  },
  {
   "cell_type": "markdown",
   "metadata": {},
   "source": [
    "A l'intérieur du vecteur si une cellule a au moins une cellule voisine donc elle devient vivante peu importe leur état initial, mais on ne se s'intéresse pas au bord du vecteur(elles deviennent mortes dans tous les cas)."
   ]
  },
  {
   "cell_type": "markdown",
   "metadata": {},
   "source": [
    "#### Question 8:"
   ]
  },
  {
   "cell_type": "code",
   "execution_count": null,
   "metadata": {
    "collapsed": true
   },
   "outputs": [],
   "source": [
    "def calcul_nb_voisins_np(Z):\n",
    "    \"\"\"Cette fonction permet de calculer le nombre de voisins en utilisant le slicing.\n",
    "\n",
    "    Les paramétres\n",
    "    --------------\n",
    "        Z : un tableau numpy. \n",
    "\n",
    "    Retour\n",
    "    ------\n",
    "        nb_vois : un tableau qui contient le nombre de voisins pour chaque entrée encore on s'intéresse pas au bord. \n",
    "    \n",
    "    Exemple\n",
    "    -------\n",
    "        >>> Y = np.array([[0, 0, 0, 0, 0, 0], [0, 0, 0, 1, 0, 0], [0, 1, 1, 1, 0, 0], [0, 0, 1, 1, 0, 0], [0, 0, 1, 0, 0, 0], [0, 0, 0, 0, 0, 0]])\n",
    "        >>> calcul_nb_voisins_np(Y)\n",
    "        array([[ 0.,  0.,  0.,  0.,  0.,  0.], [ 0.,  2.,  4.,  2.,  2.,  0.], [ 0.,  2.,  5.,  4.,  3.,  0.], [ 0.,  4.,  5.,  4.,  2.,  0.], [ 0.,  2.,  2.,  3.,  1.,  0.], [ 0.,  0.,  0.,  0.,  0.,  0.]])\n",
    "    \"\"\"\n",
    "    nb_vois = np.zeros(np.shape(Z))\n",
    "    nb_vois[1:-1, 1:-1] = Z[0:-2, 0:-2] + Z[:-2, 2:] + Z[2:, :-2] + Z[:-2, 1:-1] + \\\n",
    "        Z[1:-1, 2:] + Z[1:-1, :-2] + Z[2:, 1:-1] + Z[2:, 2:]\n",
    "    return(nb_vois)"
   ]
  },
  {
   "cell_type": "code",
   "execution_count": null,
   "metadata": {},
   "outputs": [],
   "source": [
    "Z = np.array([[0, 0, 0, 0, 0, 0],\n",
    "     [0, 0, 0, 1, 0, 0],\n",
    "     [0, 1, 0, 1, 0, 0],\n",
    "     [0, 0, 1, 1, 0, 0],\n",
    "     [0, 0, 0, 0, 0, 0],\n",
    "     [0, 0, 0, 0, 0, 0]])\n",
    "calcul_nb_voisins_np(Z)"
   ]
  },
  {
   "cell_type": "markdown",
   "metadata": {},
   "source": [
    "On remarque qu'on obtient le même résultat que l'implémentation sans numpy mais la différence c'est dans le temps d'exécution(plus rapide que la première)."
   ]
  },
  {
   "cell_type": "markdown",
   "metadata": {},
   "source": [
    "#### QUESTION 9"
   ]
  },
  {
   "cell_type": "code",
   "execution_count": null,
   "metadata": {
    "collapsed": true
   },
   "outputs": [],
   "source": [
    "def iteration_jeu_np(Z):\n",
    "    \"\"\"Cette fonction permet de réaliser une itération de jeu rapide.\n",
    "\n",
    "    Si une cellule a trois voisines vivantes, elle devient vivante peu importe son état initial(morte, vivante).\n",
    "    Si une cellule a deux voisines vivantes, elle reste dans son état actuel.\n",
    "    Si une cellule a strictement moins de deux ou strictement plus de trois voisines vivantes, elle devient morte.\n",
    "    Tous les autres cas restent dans son état.\n",
    "    \n",
    "    Les paramétres\n",
    "    ---------------\n",
    "        Z : un tableau numpy.\n",
    "\n",
    "    Retour\n",
    "    ------\n",
    "        Z : un tableau numpy de même dimension que le tableau initial , qui donne l'état de la cellule aprés une itération. \n",
    "\n",
    "    Example\n",
    "    -------\n",
    "        >>> tab_init = np.array([[0,0,0,0],[0,0,1,0],[0,0,1,0],[0,0,0,0]])\n",
    "        >>> iteration_jeu_np(tab_init)\n",
    "        [[0, 0, 0, 0], [0, 0, 0, 0], [0, 0, 0, 0], [0, 0, 0, 0]]\n",
    "    \"\"\"\n",
    "    Z = np.array(Z)\n",
    "    Nov_arr = Z.copy() #pour ne pas modifier le tableau initial Z.\n",
    "    nb_vois = calcul_nb_voisins_np(Z) #on utilise la fonction de Question 8. \n",
    "    cellule_viv = np.where((Nov_arr == 0) & (nb_vois == 3)) #d'aprés la description de la fonction, la cellule devient vivante. \n",
    "    Z[cellule_viv] = 1\n",
    "    cellule_mor = np.where((Nov_arr == 1) & ((nb_vois == 1) | (nb_vois > 3))) #d'aprés la description de la fonction, la cellule devient morte.\n",
    "    Z[cellule_mor] = 0\n",
    "    return Z"
   ]
  },
  {
   "cell_type": "code",
   "execution_count": null,
   "metadata": {},
   "outputs": [],
   "source": [
    "tab_init = np.array([[0,0,0,0],[0,0,1,0],[0,0,1,0],[0,0,0,0]])\n",
    "iteration_jeu_np(tab_init)"
   ]
  },
  {
   "cell_type": "markdown",
   "metadata": {
    "collapsed": true
   },
   "source": [
    "#### Question 10\n",
    "\n",
    "On appelle la fonction de la question précédente (iteration_jeu_np)."
   ]
  },
  {
   "cell_type": "code",
   "execution_count": null,
   "metadata": {
    "collapsed": true
   },
   "outputs": [],
   "source": [
    "def jeu_np(Z_in, nb_iter):\n",
    "    \"\"\"Cette fonction permet de retourner une matrice aprés nb_iter.\n",
    "    \n",
    "    Les paramétres\n",
    "    --------------\n",
    "    \n",
    "        Z_in : un tableau qui définit l'état de la matrice à l'état initial.\n",
    "        nb_iter : un entier positif qui permet de voir après combien d'étapes on souhaite notre jeu.\n",
    "    Exemple\n",
    "    -------\n",
    "        >>> Z = np.array([[0, 0, 0, 0, 0, 0], [0, 0, 0, 1, 0, 0], [0, 1, 0, 1, 0, 0], [0, 0, 1, 1, 0, 0], [0, 0, 0, 0, 0, 0], [0, 0, 0, 0, 0, 0]])\n",
    "        >>> jeu_np(Z, 4)\n",
    "        array([[0, 0, 0, 0, 0, 0], [0, 0, 0, 0, 0, 0], [0, 0, 0, 0, 1, 0], [0, 0, 1, 0, 1, 0], [0, 0, 0, 1, 1, 0], [0, 0, 0, 0, 0, 0]])\n",
    "    \"\"\"\n",
    "    if nb_iter == 0:\n",
    "        return(Z_in)\n",
    "    else:\n",
    "        return(jeu_np(iteration_jeu_np(Z_in), nb_iter-1))"
   ]
  },
  {
   "cell_type": "markdown",
   "metadata": {},
   "source": [
    "La même remarque que l'itération 4 trouvé dans la première méthode sans numpy (les cellules se décalent vers la droite en bas gardent la forme initiale)."
   ]
  },
  {
   "cell_type": "code",
   "execution_count": null,
   "metadata": {},
   "outputs": [],
   "source": [
    "Z = np.array([[0, 0, 0, 0, 0, 0],\n",
    "     [0, 0, 0, 1, 0, 0],\n",
    "     [0, 1, 0, 1, 0, 0],\n",
    "     [0, 0, 1, 1, 0, 0],\n",
    "     [0, 0, 0, 0, 0, 0],\n",
    "     [0, 0, 0, 0, 0, 0]])\n",
    "iteration_jeu_np(Z)"
   ]
  },
  {
   "cell_type": "code",
   "execution_count": null,
   "metadata": {},
   "outputs": [],
   "source": [
    "jeu_np(Z, 14)"
   ]
  },
  {
   "cell_type": "code",
   "execution_count": null,
   "metadata": {
    "collapsed": true
   },
   "outputs": [],
   "source": [
    "def jeudevie(init, msj):\n",
    "    \"\"\"Cette fonction permet de faire l'animation de jeu de la vie.\n",
    "    \n",
    "    Les paramétres\n",
    "    --------------\n",
    "        init : tableau initial (on peut dire que c'est \"le plan\" dans laquel on va faire l'animation)\n",
    "        msj : tableau de même dimension que le tableau initial.\n",
    "    \"\"\"\n",
    "    plt.figure()\n",
    "    fig = plt.gcf()\n",
    "    shw = plt.imshow(init)\n",
    "    plt.title(\" Jeu de la vie avec Z_huge\")\n",
    "    plt.show()\n",
    "\n",
    "    def animate():\n",
    "        shw.set_data(msj(init))\n",
    "        return shw,\n",
    "\n",
    "    anim = FuncAnimation(fig, animate,frames=200, interval=20, blit=True)\n",
    "    return(anim)"
   ]
  },
  {
   "cell_type": "code",
   "execution_count": null,
   "metadata": {
    "scrolled": true
   },
   "outputs": [],
   "source": [
    "Z_huge = np.zeros((100, 100))\n",
    "Z_np = np.array(\n",
    "    [[0, 0, 0, 0, 0, 0],\n",
    "     [0, 0, 0, 1, 0, 0],\n",
    "     [0, 1, 0, 1, 0, 0],\n",
    "     [0, 0, 1, 1, 0, 0],\n",
    "     [0, 0, 0, 0, 0, 0],\n",
    "     [0, 0, 0, 0, 0, 0]])\n",
    "Z_huge[10:16, 10:16] = Z_np\n",
    "jeudevie(Z_huge, iteration_jeu_np)"
   ]
  },
  {
   "cell_type": "markdown",
   "metadata": {
    "collapsed": true
   },
   "source": [
    "#### Question 12:"
   ]
  },
  {
   "cell_type": "code",
   "execution_count": null,
   "metadata": {
    "collapsed": true
   },
   "outputs": [],
   "source": [
    "esperance = (1 + ma_graine) * 10 / 100  "
   ]
  },
  {
   "cell_type": "code",
   "execution_count": null,
   "metadata": {},
   "outputs": [],
   "source": [
    "Z_huge = np.zeros((100, 100))\n",
    "Z = np.random.binomial(1, esperance, size=(98, 98))\n",
    "Z_huge[1:np.shape(Z_huge)[1]-1, 1:np.shape(Z_huge)[0]-1] = Z\n",
    "fig = plt.figure()\n",
    "shw = plt.imshow(Z_huge)\n",
    "\n",
    "def animate(i):\n",
    "    jeu_np(Z_huge, 1)\n",
    "    shw = plt.imshow(Z_huge)\n",
    "    return shw,\n",
    "plt.title(\" Jeu de la vie avec Z_huge\")\n",
    "anim = FuncAnimation(fig, animate)\n",
    "plt.show()"
   ]
  },
  {
   "cell_type": "markdown",
   "metadata": {},
   "source": [
    "#### Question 13:\n",
    "\n",
    "On essaye de tracer les graphes de 10 premières itération avec des matrices de taille 50*50 avec des matrices de propriètés suivantes:\n",
    "--trois matrices simples qui représentent des jeux qui sont fixes dans le temps (configuration stables).\n",
    "--une matrice qui représente un jeu dont l'état oscille avec une période de deux (et qui ne comporte pas uniquement des valeurs nulles)."
   ]
  },
  {
   "cell_type": "code",
   "execution_count": null,
   "metadata": {},
   "outputs": [],
   "source": [
    "Z_huge = np.zeros((50, 50))\n",
    "Z_np = np.array(\n",
    "    [[0, 0, 0, 0, 0, 0],\n",
    "     [0, 0, 1, 1, 0, 0],\n",
    "     [0, 1, 0, 0, 1, 0],\n",
    "     [0, 0, 1, 1, 0, 0],\n",
    "     [0, 0, 0, 0, 0, 0],\n",
    "     [0, 1, 0, 1, 1, 0],\n",
    "     [0, 0, 0, 1, 1, 0]])\n",
    "Z_huge[13:20, 13:19] = Z_np\n",
    "Z_huge[25:32, 25:31] = Z_np\n",
    "Z_huge[39:46, 39:45] = Z_np\n",
    "\n",
    "\n",
    "def Jeudevie_grph(Z):\n",
    "    \"\"\"cette fonction permet d'afficher les 10 premières itérations de jeu de la vie.\n",
    "    \n",
    "    Les paramétres\n",
    "    --------------\n",
    "        Z : tableau numpy (matrice)\n",
    "        \n",
    "    \"\"\"\n",
    "    fig, ax = plt.subplots()\n",
    "    plt.imshow(np.array(Z))\n",
    "    plt.title(\"Jeu de la vie après l'itr\")\n",
    "    for i in range(1, 11):\n",
    "        fig, ax = plt.subplots()\n",
    "        iteration_jeu_np(Z)\n",
    "        A = np.array(Z)\n",
    "        plt.imshow(A)\n",
    "        plt.title(\"Jeu de la vie après l'itr \" \n",
    "                  + str(i))\n",
    "        plt.show()\n",
    "\n",
    "\n",
    "Jeudevie_grph(Z_huge)"
   ]
  },
  {
   "cell_type": "code",
   "execution_count": null,
   "metadata": {
    "scrolled": false
   },
   "outputs": [],
   "source": [
    "\n",
    "Z_huge = np.zeros((50, 50))\n",
    "Z_np = np.array(\n",
    "    [[0, 0, 1, 0, 0, 0, 0],\n",
    "     [0, 1, 0, 1, 0, 0, 0],\n",
    "     [0, 0, 1, 0, 0, 0, 0],\n",
    "     [0, 0, 0, 0, 0, 0, 0],\n",
    "     [0, 0, 0, 0, 1, 0, 0],\n",
    "     [0, 0, 0, 1, 0, 1, 0],\n",
    "     [0, 0, 0, 0, 1, 0, 0]])\n",
    "Z_huge[1:8, 1:8] = Z_np\n",
    "Z_huge[30:37, 30:37] = Z_np\n",
    "Z_huge[43:50, 43:50] = Z_np\n",
    "Jeudevie_grph(Z_huge)\n"
   ]
  },
  {
   "cell_type": "markdown",
   "metadata": {},
   "source": [
    "matrice 3:"
   ]
  },
  {
   "cell_type": "code",
   "execution_count": null,
   "metadata": {},
   "outputs": [],
   "source": [
    "Z_np = np.array(\n",
    "    [[0, 0, 1, 0, 0, 0, 0],\n",
    "     [0, 1, 0, 1, 0, 0, 0],\n",
    "     [0, 0, 1, 0, 0, 0, 0],\n",
    "     [0, 0, 0, 0, 0, 0, 0],\n",
    "     [0, 0, 0, 0, 1, 1, 0],\n",
    "     [0, 0, 0, 0, 1, 1, 0],\n",
    "     [0, 0, 0, 0, 0, 0, 0]])\n",
    "Jeudevie_grph(Z_huge)"
   ]
  },
  {
   "cell_type": "code",
   "execution_count": null,
   "metadata": {},
   "outputs": [],
   "source": [
    "Z_huge = np.zeros((50, 50))\n",
    "Z_np = np.array(\n",
    "    [[0, 0, 0, 0, 0, 0],\n",
    "     [0, 1, 1, 1, 0, 0],\n",
    "     [0, 0, 0, 0, 0, 0],\n",
    "     [0, 0, 0, 0, 0, 0],\n",
    "     [0, 0, 0, 0, 0, 0],\n",
    "     [0, 1, 1, 1, 0, 0]])\n",
    "Z_huge[1:7, 1:7] = Z_np\n",
    "Z_huge[30:36, 30:36] = Z_np\n",
    "Z_huge[42:48, 42:48] = Z_np\n",
    "Jeudevie_grph(Z_huge)"
   ]
  },
  {
   "cell_type": "markdown",
   "metadata": {
    "collapsed": true
   },
   "source": [
    "Implémentation avec les classes:\n",
    "\n",
    "#### Question 14:"
   ]
  },
  {
   "cell_type": "code",
   "execution_count": null,
   "metadata": {
    "collapsed": true
   },
   "outputs": [],
   "source": [
    "class JeuDeLaVie:\n",
    "\n",
    "    def __init__(self, init_state, _time_T):\n",
    "        self.init_state = init_state # initialisation de self\n",
    "        self.n_1 = init_state.shape[0] # creation des deux dimension \n",
    "        self.n_2 = init_state.shape[1]\n",
    "        self._historic_state = np.ndarray((self.n_1, self.n_2, _time_T+1))\n",
    "        self._historic_state[:, :, 0] = self.init_state \n",
    "    def play(self):\n",
    "        t = 1\n",
    "        while(t <= self._time_T):\n",
    "            self._historic_state[:, :, t-1] = \\\n",
    "                iteration_jeu_np(self._historic_state[:, :, t])\n",
    "            self.average_life = np.mean(self._historic_state, axis=(2))\n",
    "            t = t + 1\n",
    "\n",
    "    def __plot__(self, init_state, _time_T):\n",
    "        \"\"\"Cette fonction permet de jouer le jeux de la vie jusqu'à _time_T et stocke dans la le tranche du\n",
    "           tenseur, l'état du jeu au temps t pour tous les t de 0 à _time_T. On mettra aussi à jour l'attribut\n",
    "           average_life qui permet de visualiser le temps de vie moyen de chaque cellule au cours du jeu\n",
    "        \"\"\"   \n",
    "        self.average_life = 1/_time_T*self.average_life\n",
    "        fig, ax = plt.subplots()\n",
    "        plt.imshow(self.average_life)\n",
    "        fig.suptitle()\n",
    "        plt.show()\n",
    "        self.init_state = init_state\n",
    "        self._time_T = _time_T\n",
    "        self._dimension = (n_1, n_2) = init_state.shape\n",
    "        self._historic_state = np.zeros((n_1, n_2, _time_T+1))\n",
    "        self._historic_state[:, :, 0] = self.init_state\n",
    "        self.average_life = np.zeros((n_1, n_2))\n",
    "\n",
    "    def play(self):\n",
    "        \"\"\"affiche la matrice average_life avec la palette viridis.\n",
    "        \"\"\"\n",
    "        t = 1\n",
    "        while(t <= self._time_T):\n",
    "            self._historic_state[:, :, t] = iteration_jeu_np(\n",
    "                self._historic_state[:, :, t-1]) \n",
    "            self.average_life = np.mean(self._historic_state, axis=(2))\n",
    "            t += 1\n",
    "\n",
    "    def plot(self):\n",
    "        display_one_plot(\n",
    "            self.average_life, \"10\".format(self._time_T))\n",
    "        plt.colorbar()"
   ]
  }
 ],
 "metadata": {
  "kernelspec": {
   "display_name": "Python 3",
   "language": "python",
   "name": "python3"
  },
  "language_info": {
   "codemirror_mode": {
    "name": "ipython",
    "version": 3
   },
   "file_extension": ".py",
   "mimetype": "text/x-python",
   "name": "python",
   "nbconvert_exporter": "python",
   "pygments_lexer": "ipython3",
   "version": "3.6.3"
  },
  "toc": {
   "base_numbering": "1",
   "nav_menu": {
    "height": "113px",
    "width": "251px"
   },
   "number_sections": true,
   "sideBar": true,
   "skip_h1_title": false,
   "title_cell": "Table of contents",
   "title_sidebar": "Contents",
   "toc_cell": true,
   "toc_position": {
    "height": "calc(100% - 180px)",
    "left": "10px",
    "top": "150px",
    "width": "320px"
   },
   "toc_section_display": true,
   "toc_window_display": true
  }
 },
 "nbformat": 4,
 "nbformat_minor": 4
}
